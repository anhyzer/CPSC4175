{
 "cells": [
  {
   "cell_type": "code",
   "execution_count": 2,
   "id": "8a697ff3-9339-4de9-9e90-79545492a94c",
   "metadata": {},
   "outputs": [],
   "source": [
    "from imblearn.over_sampling import SMOTE\n",
    "import matplotlib.pyplot as plt\n",
    "import numpy as np\n",
    "import os\n",
    "import pandas as pd\n",
    "from sklearn.model_selection import StratifiedKFold, train_test_split, cross_val_score\n",
    "from sklearn.metrics import roc_auc_score, classification_report, accuracy_score, precision_recall_curve"
   ]
  },
  {
   "cell_type": "code",
   "execution_count": 31,
   "id": "3e50cf6c-6ece-4f7c-a2f3-0c11d9b314b7",
   "metadata": {},
   "outputs": [
    {
     "name": "stderr",
     "output_type": "stream",
     "text": [
      "Intel(R) Extension for Scikit-learn* enabled (https://github.com/intel/scikit-learn-intelex)\n"
     ]
    }
   ],
   "source": [
    "from sklearn.ensemble import AdaBoostClassifier\n",
    "from sklearn.tree import DecisionTreeClassifier\n",
    "from sklearn.svm import SVC\n",
    "from sklearnex import patch_sklearn \n",
    "\n",
    "patch_sklearn()"
   ]
  },
  {
   "cell_type": "code",
   "execution_count": 4,
   "id": "36804ba1-b5c8-49b7-9b42-4c1f01fd9e8b",
   "metadata": {},
   "outputs": [],
   "source": [
    "filename = os.path.join(\"framingham.csv\")\n",
    "df = pd.read_csv(filename)"
   ]
  },
  {
   "cell_type": "code",
   "execution_count": 57,
   "id": "ca251520-97eb-45e4-8fc1-dbfac2fad324",
   "metadata": {},
   "outputs": [],
   "source": [
    "# Impute missing values\n",
    "numerical_cols = df.select_dtypes(include=['float64', 'int64']).columns\n",
    "categorical_cols = df.select_dtypes(include=['object']).columns\n",
    "\n",
    "# Impute numerical columns with median\n",
    "for col in numerical_cols:\n",
    "    df[col].fillna(df[col].median(), inplace=True)\n",
    "\n",
    "# Impute categorical columns with mode\n",
    "for col in categorical_cols:\n",
    "    df[col].fillna(df[col].mode()[0], inplace=True)\n",
    "\n",
    "# Split the dataset 80/20\n",
    "train_df, test_df = train_test_split(df, test_size=0.20, random_state=42)\n",
    "\n",
    "# Isolate the features and target\n",
    "features_train = train_df.drop(columns=\"diabetes\")\n",
    "target_train = train_df[\"diabetes\"]\n",
    "features_test = test_df.drop(columns=\"diabetes\")\n",
    "target_test = test_df[\"diabetes\"]\n",
    "\n",
    "# Set up ratio\n",
    "\n",
    "\n",
    "# SMOTE\n",
    "smote = SMOTE(random_state=42)\n",
    "features_train_resampled, target_train_resampled = smote.fit_resample(features_train, target_train)\n",
    "\n",
    "# Initialize and train model\n",
    "tree = DecisionTreeClassifier(max_depth=1)\n",
    "#svc=SVC(probability=True)\n",
    "\n",
    "# Create adaboost classifer object\n",
    "abc = AdaBoostClassifier(n_estimators=1, estimator=tree, learning_rate=0.005, random_state=42)\n",
    "model = abc.fit(features_train,target_train)"
   ]
  },
  {
   "cell_type": "code",
   "execution_count": 58,
   "id": "429cd260-a72d-431c-adef-d02658c6ffb1",
   "metadata": {},
   "outputs": [
    {
     "name": "stdout",
     "output_type": "stream",
     "text": [
      "Mean ROC AUC from CV: 0.8739\n",
      "Test ROC AUC: 0.8287\n",
      "Classification Report:\n",
      "               precision    recall  f1-score   support\n",
      "\n",
      "           0       0.99      0.97      0.98       832\n",
      "           1       0.31      0.69      0.42        16\n",
      "\n",
      "    accuracy                           0.96       848\n",
      "   macro avg       0.65      0.83      0.70       848\n",
      "weighted avg       0.98      0.96      0.97       848\n",
      "\n",
      "Feature 0: 0.0000\n",
      "Feature 1: 0.0000\n",
      "Feature 2: 0.0000\n",
      "Feature 3: 0.0000\n",
      "Feature 4: 0.0000\n",
      "Feature 5: 0.0000\n",
      "Feature 6: 0.0000\n",
      "Feature 7: 0.0000\n",
      "Feature 8: 0.0000\n",
      "Feature 9: 0.0000\n",
      "Feature 10: 0.0000\n",
      "Feature 11: 0.0000\n",
      "Feature 12: 0.0000\n",
      "Feature 13: 1.0000\n",
      "Feature 14: 0.0000\n",
      "\n",
      "Actual positives:\n",
      "16\n",
      "\n",
      "False Positives:\n",
      "25\n",
      "\n",
      "True positives:\n",
      "11\n",
      "\n",
      "False negatives:\n",
      "5\n",
      "\n",
      "True negatives:\n",
      "807\n",
      "\n"
     ]
    }
   ],
   "source": [
    "# Cross-validation using the resampled training data\n",
    "cv = StratifiedKFold(n_splits=8, shuffle=True, random_state=42)\n",
    "roc_auc_scores = cross_val_score(model, features_train_resampled, target_train_resampled, cv=cv, scoring=\"roc_auc\")\n",
    "print(f\"Mean ROC AUC from CV: {roc_auc_scores.mean():.4f}\")\n",
    "\n",
    "# Train the model on the resampled training data\n",
    "model.fit(features_train_resampled, target_train_resampled)\n",
    "\n",
    "# Evaluate on the test set\n",
    "y_pred_proba = model.predict_proba(features_test)[:, 1]\n",
    "roc_auc = roc_auc_score(target_test, y_pred_proba)\n",
    "y_pred = model.predict(features_test)\n",
    "print(f\"Test ROC AUC: {roc_auc:.4f}\")\n",
    "print(\"Classification Report:\\n\", classification_report(target_test, y_pred))\n",
    "\n",
    "# Display feature importances\n",
    "importances = model.feature_importances_\n",
    "for i, j in enumerate(importances):\n",
    "    print(f\"Feature {i}: {j:.4f}\")\n",
    "\n",
    "# Display comparative results of actual v. false v. true predictions\n",
    "actual_positives = test_df[target_test == 1]\n",
    "false_positive_rows = test_df[(target_test == 0) & (y_pred == 1)]\n",
    "true_positive_rows = test_df[(target_test == 1) & (y_pred == 1)]\n",
    "false_negative_rows = test_df[(target_test == 1) & (y_pred == 0)]\n",
    "true_negative_rows = test_df[(target_test == 0) & (y_pred == 0)]\n",
    "\n",
    "print(f\"\\nActual positives:\\n{len(actual_positives)}\\n\")\n",
    "print(f\"False Positives:\\n{len(false_positive_rows)}\\n\")\n",
    "print(f\"True positives:\\n{len(true_positive_rows)}\\n\")\n",
    "print(f\"False negatives:\\n{len(false_negative_rows)}\\n\")\n",
    "print(f\"True negatives:\\n{len(true_negative_rows)}\\n\")"
   ]
  },
  {
   "cell_type": "code",
   "execution_count": 108,
   "id": "08c2838e-01c3-4e8f-804f-33dd2b90d466",
   "metadata": {},
   "outputs": [
    {
     "name": "stdout",
     "output_type": "stream",
     "text": [
      "Classification Report with Optimized Threshold:\n",
      "               precision    recall  f1-score   support\n",
      "\n",
      "           0       1.00      0.00      0.00       832\n",
      "           1       0.02      1.00      0.04        16\n",
      "\n",
      "    accuracy                           0.02       848\n",
      "   macro avg       0.51      0.50      0.02       848\n",
      "weighted avg       0.98      0.02      0.00       848\n",
      "\n",
      "\n",
      "Actual positives:\n",
      "16\n",
      "\n",
      "False Positives:\n",
      "831\n",
      "\n",
      "True positives:\n",
      "16\n",
      "\n",
      "False negatives:\n",
      "0\n",
      "\n",
      "True negatives:\n",
      "1\n",
      "\n"
     ]
    }
   ],
   "source": [
    "y_scores = model.predict_proba(features_test)[:, 1]\n",
    "\n",
    "# Get precision-recall values for different thresholds\n",
    "precision, recall, thresholds = precision_recall_curve(target_test, y_scores)\n",
    "\n",
    "# Find the threshold where recall is maximized (this is a naive approach, and in real applications you'd want a balance)\n",
    "optimal_threshold = thresholds[np.argmax(recall)]\n",
    "\n",
    "# Classify using the new threshold\n",
    "y_pred_optimal = np.where(y_scores > optimal_threshold, 1, 0)\n",
    "\n",
    "print(\"Classification Report with Optimized Threshold:\\n\", classification_report(target_test, y_pred_optimal))\n",
    "\n",
    "\n",
    "# Display comparative results of actual v. false v. true predictions\n",
    "actual_positives = test_df[target_test == 1]\n",
    "false_positive_rows = test_df[(target_test == 0) & (y_pred_optimal == 1)]\n",
    "true_positive_rows = test_df[(target_test == 1) & (y_pred_optimal == 1)]\n",
    "false_negative_rows = test_df[(target_test == 1) & (y_pred_optimal == 0)]\n",
    "true_negative_rows = test_df[(target_test == 0) & (y_pred_optimal == 0)]\n",
    "\n",
    "print(f\"\\nActual positives:\\n{len(actual_positives)}\\n\")\n",
    "print(f\"False Positives:\\n{len(false_positive_rows)}\\n\")\n",
    "print(f\"True positives:\\n{len(true_positive_rows)}\\n\")\n",
    "print(f\"False negatives:\\n{len(false_negative_rows)}\\n\")\n",
    "print(f\"True negatives:\\n{len(true_negative_rows)}\\n\")"
   ]
  },
  {
   "cell_type": "code",
   "execution_count": null,
   "id": "c5b026e2-33f0-41d7-974f-5d8983ed7d02",
   "metadata": {},
   "outputs": [],
   "source": []
  }
 ],
 "metadata": {
  "kernelspec": {
   "display_name": "Python 3 (ipykernel)",
   "language": "python",
   "name": "python3"
  },
  "language_info": {
   "codemirror_mode": {
    "name": "ipython",
    "version": 3
   },
   "file_extension": ".py",
   "mimetype": "text/x-python",
   "name": "python",
   "nbconvert_exporter": "python",
   "pygments_lexer": "ipython3",
   "version": "3.10.7"
  }
 },
 "nbformat": 4,
 "nbformat_minor": 5
}
